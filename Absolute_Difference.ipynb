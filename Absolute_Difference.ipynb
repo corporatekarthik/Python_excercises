{
 "cells": [
  {
   "cell_type": "code",
   "execution_count": 3,
   "metadata": {},
   "outputs": [
    {
     "name": "stdout",
     "output_type": "stream",
     "text": [
      "input a number: 23\n",
      "difference  value is 4\n"
     ]
    }
   ],
   "source": [
    "import datetime\n",
    "\n",
    "#currentdate = datetime.datetime.now()\n",
    "a = int(input('input a number: '))\n",
    "#b = int(input('input another number:'))\n",
    "\n",
    "#print (currentdate.hour)\n",
    "#day2=sunday\n",
    "#day1=saturday\n",
    "if (a <= 21):\n",
    "    b= 21 -a\n",
    "    print (\"difference  value is\",b)\n",
    "else:\n",
    "    b= (a -21)*2\n",
    "    print (\"difference  value is\", b)"
   ]
  },
  {
   "cell_type": "markdown",
   "metadata": {},
   "source": [
    "# "
   ]
  }
 ],
 "metadata": {
  "kernelspec": {
   "display_name": "Python 3",
   "language": "python",
   "name": "python3"
  },
  "language_info": {
   "codemirror_mode": {
    "name": "ipython",
    "version": 3
   },
   "file_extension": ".py",
   "mimetype": "text/x-python",
   "name": "python",
   "nbconvert_exporter": "python",
   "pygments_lexer": "ipython3",
   "version": "3.6.5"
  }
 },
 "nbformat": 4,
 "nbformat_minor": 2
}
