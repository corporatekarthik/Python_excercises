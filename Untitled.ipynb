{
 "cells": [
  {
   "cell_type": "code",
   "execution_count": 15,
   "metadata": {},
   "outputs": [
    {
     "name": "stdout",
     "output_type": "stream",
     "text": [
      "enter the day of the week: sunday\n",
      "Are you on vacation, yes or no: yes\n",
      "sleep_in result is true\n"
     ]
    }
   ],
   "source": [
    "import datetime\n",
    "\n",
    "#currentdate = datetime.datetime.now()\n",
    "weekday = input('enter the day of the week: ')\n",
    "vacationstatus=input('Are you on vacation, yes or no: ')\n",
    "#print (currentdate.hour)\n",
    "#day2=sunday\n",
    "#day1=saturday\n",
    "if (((weekday =='sunday') or (weekday =='saturday'))and (vacationstatus =='yes')):\n",
    "    print (\"sleep_in result is true\")\n",
    "else:\n",
    "    print (\"sleep_in result is flase\")\n"
   ]
  },
  {
   "cell_type": "code",
   "execution_count": null,
   "metadata": {},
   "outputs": [],
   "source": []
  }
 ],
 "metadata": {
  "kernelspec": {
   "display_name": "Python 3",
   "language": "python",
   "name": "python3"
  },
  "language_info": {
   "codemirror_mode": {
    "name": "ipython",
    "version": 3
   },
   "file_extension": ".py",
   "mimetype": "text/x-python",
   "name": "python",
   "nbconvert_exporter": "python",
   "pygments_lexer": "ipython3",
   "version": "3.6.5"
  }
 },
 "nbformat": 4,
 "nbformat_minor": 2
}
