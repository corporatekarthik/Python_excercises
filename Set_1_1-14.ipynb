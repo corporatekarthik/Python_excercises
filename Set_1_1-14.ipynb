{
 "cells": [
  {
   "cell_type": "markdown",
   "metadata": {},
   "source": [
    " ### **Problem statement:\n",
    "\n",
    "\n",
    "\n",
    "Write a program which will find all such numbers which are divisible by 7 but are not a multiple of 5,\n",
    "between 2000 and 3200 (both included).\n",
    "The numbers obtained should be printed in a comma-separated sequence on a single line..\n",
    "\n",
    "\n",
    "\n",
    "Concept : Logical Operation,Control\n",
    "\n"
   ]
  },
  {
   "cell_type": "code",
   "execution_count": null,
   "metadata": {},
   "outputs": [],
   "source": [
    "outlist=[]\n",
    "for x in range(2000,3001):\n",
    "    if ((x%7==0) and (x%5 !=0)):\n",
    "        outlist.append(x)\n",
    "        \n",
    "print(outlist)\n",
    "        "
   ]
  },
  {
   "cell_type": "markdown",
   "metadata": {},
   "source": [
    "2. \n",
    "**Problem statement:\n",
    "\n",
    "Write a program which can compute the factorial of a given numbers.\n",
    "The results should be printed in a comma-separated sequence on a single line.\n",
    "Suppose the following input is supplied to the program:\n",
    "8\n",
    "Then, the output should be:\n",
    "40320\n",
    "\n",
    "Hints:\n",
    "In case of input data being supplied to the question, it should be assumed to be a console input.\n",
    "\n",
    "\n"
   ]
  },
  {
   "cell_type": "code",
   "execution_count": 6,
   "metadata": {},
   "outputs": [
    {
     "name": "stdout",
     "output_type": "stream",
     "text": [
      "enter no. \n",
      "2\n",
      "enter no. \n",
      "3\n",
      "enter no. \n",
      "4\n",
      "enter no. \n",
      "5\n",
      "2,6,24,120\n"
     ]
    }
   ],
   "source": [
    "import datetime\n",
    "\n",
    "#currentdate = datetime.datetime.now()\n",
    "a=[]\n",
    "\n",
    "mylist=[] \n",
    "for i in range (4):\n",
    "    x=int(input(\"enter no. \\n\")) \n",
    "    mylist.insert(i,x)\n",
    "    i+=1\n",
    "\n",
    "    \n",
    "factorial = 1\n",
    "outlist=[]\n",
    "for x in mylist:\n",
    "    factorial = 1\n",
    "    for init in range(1,x+ 1):\n",
    "       factorial = factorial*init\n",
    "      \n",
    "    outlist.append(factorial)\n",
    "    \n",
    "    \n",
    "outlist=','.join(map(str, outlist)) \n",
    "       \n",
    "  \n",
    "print(outlist)\n",
    "    \n"
   ]
  },
  {
   "cell_type": "markdown",
   "metadata": {},
   "source": [
    "3. \n",
    "**Problem statement:\n",
    "\n",
    "Level 1\n",
    "Concept : Dictionary\n",
    "\n",
    "Question:\n",
    "With a given integral number n, write a program to generate a dictionary that contains (i, i*i) such that is an integral number between 1 and n (both included). and then the program should print the dictionary.\n",
    "Suppose the following input is supplied to the program:\n",
    "8\n",
    "Then, the output should be:\n",
    "{1: 1, 2: 4, 3: 9, 4: 16, 5: 25, 6: 36, 7: 49, 8: 64}\n",
    "\n",
    "Hints:\n",
    "In case of input data being supplied to the question, it should be assumed to be a console input.\n",
    "Consider use dict()\n",
    "\n",
    "\n"
   ]
  },
  {
   "cell_type": "code",
   "execution_count": 11,
   "metadata": {},
   "outputs": [
    {
     "name": "stdout",
     "output_type": "stream",
     "text": [
      "enter a positive integer no. \n",
      "6\n",
      "{1: 1, 2: 4, 3: 9, 4: 16, 5: 25, 6: 36}\n"
     ]
    }
   ],
   "source": [
    "a= {}\n",
    "\n",
    "mylist=[] \n",
    "\n",
    "i=int(input(\"enter a positive integer no. \\n\")) \n",
    "\n",
    "for i in range (1,i+1):\n",
    "    b=i*i\n",
    "    a.update({i:b})\n",
    "    \n",
    "    \n",
    "    \n",
    "print (a)\n",
    "\n",
    "       \n",
    "  \n",
    "\n",
    "    \n",
    "\n",
    "    \n",
    "    \n",
    "    "
   ]
  },
  {
   "cell_type": "markdown",
   "metadata": {},
   "source": [
    "4. \n",
    "**Problem statement:\n",
    "\n",
    "Level 1\n",
    "Concept : Lists\n",
    "\n",
    "Question:\n",
    "Write a program which accepts a sequence of comma-separated numbers from console and generate a list and a tuple which contains every number.\n",
    "Suppose the following input is supplied to the program:\n",
    "34,67,55,33,12,98\n",
    "Then, the output should be:\n",
    "['34', '67', '55', '33', '12', '98']\n",
    "('34', '67', '55', '33', '12', '98')\n",
    "\n",
    "Hints:\n",
    "In case of input data being supplied to the question, it should be assumed to be a console input.\n",
    "tuple() method can convert list to tuple\n",
    "\n",
    "\n"
   ]
  },
  {
   "cell_type": "code",
   "execution_count": 16,
   "metadata": {},
   "outputs": [
    {
     "name": "stdout",
     "output_type": "stream",
     "text": [
      "enter a range of comma seperated nums \n",
      "2,5,6,7,\n",
      "list of nums is['2', '5', '6', '7', '']\n",
      "tuple of nums is ('2', '5', '6', '7', '')\n"
     ]
    }
   ],
   "source": [
    "#a= {}\n",
    "\n",
    "mylist=[] \n",
    "\n",
    "x =(input(\"enter a range of comma seperated nums \\n\")) \n",
    "a= x.split(\",\")\n",
    "print (\"list of nums is\"+ str(a))\n",
    "b=tuple(a)\n",
    "print (\"tuple of nums is \"+ str(b))\n",
    "\n",
    "\n",
    "    "
   ]
  },
  {
   "cell_type": "markdown",
   "metadata": {},
   "source": [
    "5. \n",
    "**Problem statement:\n",
    "\n",
    "Level 1\n",
    "Concept : OOP\n",
    "Question:\n",
    "Define a class which has at least two methods:\n",
    "getString: to get a string from console input\n",
    "printString: to print the string in upper case.\n",
    "Also please include simple test function to test the class methods."
   ]
  },
  {
   "cell_type": "code",
   "execution_count": 20,
   "metadata": {},
   "outputs": [
    {
     "name": "stdout",
     "output_type": "stream",
     "text": [
      "enter a string  \n",
      "abcdf\n",
      "string converted to upper case is ABCDF\n"
     ]
    }
   ],
   "source": [
    "a= {}\n",
    "\n",
    "mylist=[] \n",
    "class sampleclass:\n",
    "       i=(input(\"enter a string  \\n\")) \n",
    "       b=i.upper()\n",
    "       c=str(b)\n",
    "       #def function(self):\n",
    "        #  print (\"upper case string is\"+str(b))\n",
    "    \n",
    "    \n",
    "x=sampleclass() \n",
    "print(\"string converted to upper case is \"+ x.c) \n",
    "\n",
    "\n"
   ]
  },
  {
   "cell_type": "markdown",
   "metadata": {},
   "source": [
    "6. \n",
    "**Problem statement:\n",
    "\n",
    "Level 2\n",
    "Concept math\n",
    "\n",
    "Question:\n",
    "Write a program that calculates and prints the value according to the given formula:\n",
    "Q = Square root of [(2 * C * D)/H]\n",
    "Following are the fixed values of C and H:\n",
    "C is 50. H is 30.\n",
    "D is the variable whose values should be input to your program in a comma-separated sequence.\n",
    "Example\n",
    "Let us assume the following comma separated input sequence is given to the program:\n",
    "100,150,180\n",
    "The output of the program should be:\n",
    "18,22,24\n",
    "\n",
    "Hints:\n",
    "If the output received is in decimal form, it should be rounded off to its nearest value (for example, if the output received is 26.0, it should be printed as 26)\n",
    "In case of input data being supplied to the question, it should be assumed to be a console input. \n",
    "\n"
   ]
  },
  {
   "cell_type": "code",
   "execution_count": 23,
   "metadata": {},
   "outputs": [
    {
     "name": "stdout",
     "output_type": "stream",
     "text": [
      "enter a range of comma seperated nums \n",
      "2,3,4\n",
      "2.581988897471611,3.1622776601683795,3.6514837167011076\n"
     ]
    }
   ],
   "source": [
    "import math\n",
    "mylist=[] \n",
    "\n",
    "d =(input(\"enter a range of comma seperated nums \\n\")) \n",
    "a= d.split(\",\")\n",
    "c=50\n",
    "h=30\n",
    "outlist=[]\n",
    "for x in a:\n",
    "    x=int(x)\n",
    "    x=round(x)\n",
    "    p=2*c*x\n",
    "    q=p/h\n",
    "    r=math.sqrt(q)\n",
    "    outlist.append(r)\n",
    "    \n",
    "outlist=','.join(map(str, outlist)) \n",
    "       \n",
    "  \n",
    "print(outlist)\n",
    "\n"
   ]
  },
  {
   "cell_type": "markdown",
   "metadata": {},
   "source": [
    "8. \n",
    "**Problem statement:\n",
    "\n",
    "Level 2\n",
    "Concept List, Sort\n",
    "\n",
    "Question:\n",
    "Write a program that accepts a comma separated sequence of words as input and prints the words in a comma-separated sequence after sorting them alphabetically.\n",
    "Suppose the following input is supplied to the program:\n",
    "without,hello,bag,world\n",
    "Then, the output should be:\n",
    "bag,hello,without,world\n",
    "\n",
    "Hints:\n",
    "In case of input data being supplied to the question, it should be assumed to be a console input."
   ]
  },
  {
   "cell_type": "code",
   "execution_count": 25,
   "metadata": {},
   "outputs": [
    {
     "name": "stdout",
     "output_type": "stream",
     "text": [
      "enter a range of comma words \n",
      "bag,hh,zai,cat\n",
      "bag,cat,hh,zai\n"
     ]
    }
   ],
   "source": [
    "d =(input(\"enter a range of comma words \\n\")) \n",
    "a= d.split(\",\")\n",
    "a.sort()\n",
    "\n",
    "a=','.join(map(str, a)) \n",
    "print(a)\n"
   ]
  },
  {
   "cell_type": "markdown",
   "metadata": {},
   "source": [
    "9. \n",
    "**Problem statement:\n",
    "\n",
    "Level 2\n",
    "Concept : Control, String\n",
    "\n",
    "Question:\n",
    "Write a program that accepts sequence of lines as input and prints the lines after making all characters in the sentence capitalized.\n",
    "Suppose the following input is supplied to the program:\n",
    "Hello world\n",
    "Practice makes perfect\n",
    "Then, the output should be:\n",
    "HELLO WORLD\n",
    "PRACTICE MAKES PERFECT\n",
    "\n",
    "Hints:\n",
    "In case of input data being supplied to the question, it should be assumed to be a console input."
   ]
  },
  {
   "cell_type": "code",
   "execution_count": null,
   "metadata": {},
   "outputs": [],
   "source": [
    "#d =(input(\"enter a range of comma words \\n\")) \n",
    "import sys\n",
    "\n",
    "\n",
    "\n",
    "no_of_lines = 5\n",
    "lines = \"\"\n",
    "for i in xrange(5):\n",
    "    lines+=input()+\"\\n\"\n",
    "    a=input(\"if u want to continue (Y/n)\")\n",
    "    \"\"\n",
    "    if(a=='y'):\n",
    "        continue\n",
    "    else:\n",
    "        break\n",
    "    print lines\n",
    "\n",
    "\n",
    "\n",
    "\n"
   ]
  },
  {
   "cell_type": "code",
   "execution_count": null,
   "metadata": {},
   "outputs": [],
   "source": []
  },
  {
   "cell_type": "code",
   "execution_count": null,
   "metadata": {},
   "outputs": [],
   "source": []
  },
  {
   "cell_type": "code",
   "execution_count": null,
   "metadata": {},
   "outputs": [],
   "source": []
  },
  {
   "cell_type": "code",
   "execution_count": null,
   "metadata": {},
   "outputs": [],
   "source": []
  },
  {
   "cell_type": "code",
   "execution_count": null,
   "metadata": {},
   "outputs": [],
   "source": [
    "#d =(input(\"enter a range of comma words \\n\")) \n",
    "import sys\n",
    "\n",
    "\n",
    "\n",
    "lines = []\n",
    "while True:\n",
    "    line = input()\n",
    "    if line:\n",
    "        lines.append(line)\n",
    "    else:\n",
    "        break\n",
    "text = '\\n'.join(lines)\n",
    "#print (text)\n",
    "a= text.split(\"\\n\")\n",
    "a.upper()\n",
    "\n",
    "d=','.join(map(str, a)) \n",
    "print(d)"
   ]
  },
  {
   "cell_type": "code",
   "execution_count": null,
   "metadata": {},
   "outputs": [],
   "source": []
  }
 ],
 "metadata": {
  "kernelspec": {
   "display_name": "Python 3",
   "language": "python",
   "name": "python3"
  },
  "language_info": {
   "codemirror_mode": {
    "name": "ipython",
    "version": 3
   },
   "file_extension": ".py",
   "mimetype": "text/x-python",
   "name": "python",
   "nbconvert_exporter": "python",
   "pygments_lexer": "ipython3",
   "version": "3.6.5"
  }
 },
 "nbformat": 4,
 "nbformat_minor": 2
}
