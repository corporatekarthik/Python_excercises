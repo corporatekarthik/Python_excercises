import datetime

currentDT = datetime.datetime.now()
name = raw_input('Your name: ')
print (currentDT.hour)