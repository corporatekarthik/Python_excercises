{
 "cells": [
  {
   "cell_type": "code",
   "execution_count": 4,
   "metadata": {},
   "outputs": [
    {
     "name": "stdout",
     "output_type": "stream",
     "text": [
      "say yes or no if monkey 'a' is smiling: no\n",
      "say yes or no if monkey 'b' is smiling: no\n",
      "we are in trouble :true\n"
     ]
    }
   ],
   "source": [
    "import datetime\n",
    "\n",
    "#currentdate = datetime.datetime.now()\n",
    "a_smile = input('say yes or no if monkey \\'a\\' is smiling: ')\n",
    "b_smile = input('say yes or no if monkey \\'b\\' is smiling: ')\n",
    "\n",
    "#print (currentdate.hour)\n",
    "#day2=sunday\n",
    "#day1=saturday\n",
    "if (((a_smile =='yes') and (b_smile =='yes'))or  ((a_smile =='no') and (b_smile == 'no'))):\n",
    "    print (\"we are in trouble :true\")\n",
    "else:\n",
    "    print (\"we are in trouble :false\")"
   ]
  },
  {
   "cell_type": "code",
   "execution_count": null,
   "metadata": {},
   "outputs": [],
   "source": []
  }
 ],
 "metadata": {
  "kernelspec": {
   "display_name": "Python 3",
   "language": "python",
   "name": "python3"
  },
  "language_info": {
   "codemirror_mode": {
    "name": "ipython",
    "version": 3
   },
   "file_extension": ".py",
   "mimetype": "text/x-python",
   "name": "python",
   "nbconvert_exporter": "python",
   "pygments_lexer": "ipython3",
   "version": "3.6.5"
  }
 },
 "nbformat": 4,
 "nbformat_minor": 2
}
